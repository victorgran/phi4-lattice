{
 "cells": [
  {
   "cell_type": "code",
   "id": "initial_id",
   "metadata": {},
   "source": [
    "from phi4.implementation.lattice import Phi4Lattice\n",
    "import matplotlib.pyplot as plt\n",
    "import numpy as np"
   ],
   "outputs": [],
   "execution_count": null
  },
  {
   "cell_type": "code",
   "id": "2f68d372cb9556f6",
   "metadata": {},
   "source": [
    "rng = np.random.default_rng(seed=42)  # Seed the r.n.g. for reproducible results (and errors!).\n",
    "lattice = Phi4Lattice(linear_sites=5, mass2=-1.0, coupling_strength=8.0)\n",
    "initial_sample = rng.random(size=lattice.shape)\n",
    "samples, acceptances = lattice.sample(initial_field=initial_sample,\n",
    "                                      num_samples=50_000,\n",
    "                                      method='uniform',\n",
    "                                      rng=rng,\n",
    "                                      half_width=0.05)\n",
    "samples = np.array(samples)\n",
    "print(f\"Acceptance is {np.mean(acceptances)*100:.2f}%\" )\n",
    "print(\"Typically, the optimal choice is around 60-70%.\")"
   ],
   "outputs": [],
   "execution_count": null
  },
  {
   "metadata": {},
   "cell_type": "markdown",
   "source": "## Plot some configurations",
   "id": "4858e0c927d15b9"
  },
  {
   "cell_type": "code",
   "id": "34f24d4d85293dc2",
   "metadata": {},
   "source": [
    "sample1 = samples[10_000]\n",
    "sample2 = samples[40_000]\n",
    "\n",
    "fig, (axis1, axis2) = plt.subplots(figsize=(14, 5), nrows=1, ncols=2)\n",
    "\n",
    "image1 = axis1.imshow(sample1, cmap='plasma', interpolation=None)\n",
    "axis1.set_xlabel(r\"$x_{1}$\", fontsize=16, labelpad=10)\n",
    "axis1.set_ylabel(r\"$x_{2}$\", fontsize=16, rotation=0, labelpad=20)\n",
    "cbar1 = fig.colorbar(image1, ax=axis1)\n",
    "cbar1.set_label(r\"$\\phi$\", fontsize=16, rotation=0, labelpad=10)\n",
    "\n",
    "image2 = axis2.imshow(sample2, cmap='plasma', interpolation=None)\n",
    "axis2.set_xlabel(r\"$x_{1}$\", fontsize=16, labelpad=10)\n",
    "axis2.set_ylabel(r\"$x_{2}$\", fontsize=16, rotation=0, labelpad=20)\n",
    "cbar2 = fig.colorbar(image2, ax=axis2)\n",
    "cbar2.set_label(r\"$\\phi$\", fontsize=16, rotation=0, labelpad=10)\n",
    "\n",
    "plt.show()"
   ],
   "outputs": [],
   "execution_count": null
  },
  {
   "metadata": {},
   "cell_type": "markdown",
   "source": "## Exercise 1",
   "id": "787996e4f094c634"
  },
  {
   "metadata": {},
   "cell_type": "markdown",
   "source": [
    "Plot some field configurations and some random Gaussian noise.\n",
    "What do you observe?"
   ],
   "id": "d62892731a1bca1b"
  },
  {
   "metadata": {},
   "cell_type": "code",
   "source": [
    "field_sample = samples[40_000]\n",
    "rng = np.random.default_rng(seed=42)\n",
    "gauss_noise = rng.normal(loc=0.010694, scale=0.30215, size=field_sample.shape)\n",
    "\n",
    "fig, (axis1, axis2) = plt.subplots(figsize=(14, 5), nrows=1, ncols=2)\n",
    "\n",
    "image1 = axis1.imshow(field_sample, cmap='plasma', interpolation=None)\n",
    "axis1.set_xlabel(r\"$x_{1}$\", fontsize=16, labelpad=10)\n",
    "axis1.set_ylabel(r\"$x_{2}$\", fontsize=16, rotation=0, labelpad=20)\n",
    "axis1.set_title(\"Field configuration\", fontsize=16)\n",
    "cbar1 = fig.colorbar(image1, ax=axis1)\n",
    "cbar1.set_label(r\"$\\phi$\", fontsize=16, rotation=0, labelpad=10)\n",
    "\n",
    "image2 = axis2.imshow(gauss_noise, cmap='plasma', interpolation=None)\n",
    "axis2.set_xlabel(r\"$x_{1}$\", fontsize=16, labelpad=10)\n",
    "axis2.set_ylabel(r\"$x_{2}$\", fontsize=16, rotation=0, labelpad=20)\n",
    "axis2.set_title(\"Gaussian noise\", fontsize=16)\n",
    "cbar2 = fig.colorbar(image2, ax=axis2)\n",
    "\n",
    "plt.show()"
   ],
   "id": "6d30c6214f4acf05",
   "outputs": [],
   "execution_count": null
  },
  {
   "metadata": {},
   "cell_type": "markdown",
   "source": "## Evaluating an observable",
   "id": "c73f02b2f92006bc"
  },
  {
   "metadata": {},
   "cell_type": "markdown",
   "source": [
    "Let's evaluate a simple observable\n",
    "\\begin{equation}\n",
    "    \\langle O(\\phi) \\rangle = \\left\\langle \\left\\lvert \\frac{1}{V} \\sum_{\\mathbf{x}} \\phi(\\mathbf{x}) \\right\\rvert \\right\\rangle\n",
    "\\end{equation}"
   ],
   "id": "ac26fb9b52f3b0c0"
  },
  {
   "metadata": {},
   "cell_type": "code",
   "source": "observations1 = np.abs(np.sum(samples, axis=(1, 2)) / (lattice.linear_sites ** 2))",
   "id": "cb193ebae9e1138c",
   "outputs": [],
   "execution_count": null
  },
  {
   "metadata": {},
   "cell_type": "code",
   "source": [
    "fig, ax = plt.subplots()\n",
    "ax.plot(range(len(observations1)), observations1)\n",
    "ax.set_xlabel(\"Monte Carlo step\", fontsize=16, labelpad=10)\n",
    "ax.set_ylabel(r\"$O(\\phi)$\", fontsize=16, labelpad=10)\n",
    "plt.show()"
   ],
   "id": "68030393518576c0",
   "outputs": [],
   "execution_count": null
  },
  {
   "metadata": {},
   "cell_type": "markdown",
   "source": "## Exercise 2: Tuning the MCMC",
   "id": "800d1f3a88621d3f"
  },
  {
   "metadata": {},
   "cell_type": "markdown",
   "source": "### Acceptance as a function of the lattice volume and half-width",
   "id": "b451c65a66a23b4b"
  },
  {
   "metadata": {},
   "cell_type": "markdown",
   "source": [
    "A (very) rough estimate of the mean acceptance for a given lattice size $L = N^{2}$, with $N$ the number of sites per dimension, and half-width $h$ is given by\n",
    "\\begin{equation}\n",
    "    (1 - 1.1 h) \\cdot \\exp{\\left[ -0.37 h \\cdot L^{1 - \\exp{(-1.8 h^{0.13}})} \\right]}\n",
    "\\end{equation}\n",
    "Therefore, for a desired mean acceptance and one of $L$ or $h$, an approximated value for the remaining parameter can be found by obtaining the root of the above function."
   ],
   "id": "300729624779026"
  },
  {
   "metadata": {},
   "cell_type": "code",
   "source": [
    "data = np.load(\"data/metro_mean_acceptances.npz\")\n",
    "acceptance_grid = data[\"acceptance_grid\"]  # Each row is a specific lattice size, each column a half-width.\n",
    "linear_sizes = data[\"linear_sizes\"]\n",
    "half_widths = data[\"half_widths\"]\n",
    "num_samples = data[\"num_samples\"]\n",
    "\n",
    "sizes_grid, widths_grid = np.meshgrid(linear_sizes, half_widths)\n",
    "\n",
    "def acceptance_fit(volume, hw):\n",
    "    return (1 - 1.1 * hw) * np.exp(-0.37 * hw * np.power(volume, 1 - np.exp(-1.8 * np.power(hw, 0.13))))\n",
    "\n",
    "fit_grid = [np.array([acceptance_fit(linear_size ** 2, hw) for hw in half_widths])\n",
    "            for linear_size in linear_sizes]\n",
    "fit_grid = np.array(fit_grid)"
   ],
   "id": "b501e285051cd7ca",
   "outputs": [],
   "execution_count": null
  },
  {
   "metadata": {},
   "cell_type": "code",
   "source": [
    "fig = plt.figure(figsize=(10, 6), layout='constrained')\n",
    "ax = fig.add_subplot(projection='3d', elev=29., azim=31., roll=-3)\n",
    "ax.scatter(sizes_grid ** 2, widths_grid, acceptance_grid, alpha=0.9, label=\"Data points\")\n",
    "ax.plot_wireframe(sizes_grid ** 2, widths_grid, fit_grid, color='r', label=\"Fitted grid\")\n",
    "ax.set_xlabel(\"Lattice size\", fontsize=14, labelpad=7)\n",
    "ax.set_ylabel(\"Half-width\", fontsize=14, labelpad=7)\n",
    "ax.set_zlabel(\"Mean acceptance\", fontsize=14, labelpad=3)\n",
    "plt.legend(fontsize=11)\n",
    "plt.show()"
   ],
   "id": "1c102fd7e0cf3626",
   "outputs": [],
   "execution_count": null
  },
  {
   "metadata": {},
   "cell_type": "markdown",
   "source": "## Exercise 3: Finite-volume effects",
   "id": "178d5791e894bc9"
  },
  {
   "metadata": {},
   "cell_type": "code",
   "source": [
    "linear_sizes = np.linspace(5, 50, num=20, endpoint=True, dtype=int)\n",
    "half_widths = [0.0598, 0.0429, 0.0333, 0.0249, 0.0198,\n",
    "               0.0188, 0.0147, 0.0136, 0.0123, 0.0105,\n",
    "               0.0098, 0.0086, 0.0078, 0.0074, 0.0069,\n",
    "               0.0063, 0.0054, 0.0052, 0.0050, 0.0045]\n",
    "# num_samples = 500_000  # This allows thermalizing the largest lattice size.\n",
    "sizes_observations = []\n",
    "\n",
    "for linear_size, half_width in zip(linear_sizes, half_widths):\n",
    "    print(\"Linear size:\", linear_size)\n",
    "    lattice = Phi4Lattice(linear_sites=linear_size, mass2=-1.0, coupling_strength=8.0)\n",
    "\n",
    "    rng = np.random.default_rng(seed=42)\n",
    "    initial_sample = rng.random(size=lattice.shape)\n",
    "    samples, acceptance = lattice.sample(initial_field=initial_sample, num_samples=linear_size * 10_000,\n",
    "                                         method='uniform', rng=rng, half_width=half_width)\n",
    "    observations = np.abs(np.sum(samples, axis=(1, 2))) / (linear_size ** 2)\n",
    "    sizes_observations.extend(observations)\n",
    "    mean_acceptance = round(np.mean(acceptance), ndigits=2)\n",
    "    print(\"Mean acceptance:\", mean_acceptance)\n",
    "\n",
    "np.savez(\"data/metro_sizes_observations.npz\", sizes_observations=sizes_observations,\n",
    "         linear_sizes=linear_sizes, half_widths=half_widths)"
   ],
   "id": "97f8ab4ecafe6dfa",
   "outputs": [],
   "execution_count": null
  },
  {
   "metadata": {},
   "cell_type": "code",
   "source": [
    "obs_lengths = [10_000 * linear_size for linear_size in linear_sizes]\n",
    "obs_slices = [(sum(obs_lengths[:idx]), sum(obs_lengths[:(idx + 1)])) for idx in range(len(obs_lengths))]\n",
    "last_slice = obs_slices[-1]\n",
    "my_observations = sizes_observations[last_slice[0]:last_slice[1]]"
   ],
   "id": "792663b868e644aa",
   "outputs": [],
   "execution_count": null
  },
  {
   "metadata": {},
   "cell_type": "code",
   "source": "len(my_observations)",
   "id": "83bfc8bf487b819e",
   "outputs": [],
   "execution_count": null
  },
  {
   "metadata": {},
   "cell_type": "code",
   "source": [
    "expectation_values = []\n",
    "associated_errors = []\n",
    "\n",
    "for my_idx in range(len(linear_sizes)):\n",
    "    my_slice = obs_slices[my_idx]\n",
    "    my_observations = sizes_observations[my_slice[0]:my_slice[1]]\n",
    "    thermalization = len(my_observations) // 2\n",
    "    my_observations = my_observations[thermalization:]\n",
    "    n_steps = len(my_observations) // 100\n",
    "    my_observations = my_observations[::n_steps]\n",
    "\n",
    "    expectation_values.append(np.mean(my_observations))\n",
    "    associated_errors.append(np.std(my_observations) / np.sqrt(len(my_observations)))\n",
    "\n",
    "fig, ax = plt.subplots()\n",
    "ax.errorbar(linear_sizes, expectation_values, yerr=associated_errors, fmt='o', markersize=4)\n",
    "plt.show()"
   ],
   "id": "a0c488f0d22d17aa",
   "outputs": [],
   "execution_count": null
  },
  {
   "metadata": {},
   "cell_type": "markdown",
   "source": "## Exercise 4: Phase transition",
   "id": "b80f4f79583a8927"
  },
  {
   "metadata": {},
   "cell_type": "code",
   "source": [
    "linear_sizes = np.linspace(5, 50, num=20, endpoint=True, dtype=int)\n",
    "half_widths = [0.0598, 0.0429, 0.0333, 0.0249, 0.0198,\n",
    "               0.0188, 0.0147, 0.0136, 0.0123, 0.0105,\n",
    "               0.0098, 0.0086, 0.0078, 0.0074, 0.0069,\n",
    "               0.0063, 0.0054, 0.0052, 0.0050, 0.0045]\n",
    "mass2_values = [-1.0 * i for i in range(16)]\n",
    "\n",
    "idx = 5\n",
    "linear_size = linear_sizes[idx]\n",
    "half_width = 0.955 * half_widths[idx]\n",
    "\n",
    "initial_samples = np.load(\"data/metro_ex4_initial_states1.npz\")[\"initial_states\"]\n",
    "\n",
    "mass2_observations = []\n",
    "\n",
    "for idx, mass2 in enumerate(mass2_values):\n",
    "    lattice = Phi4Lattice(linear_sites=linear_size, mass2=mass2, coupling_strength=8.0)\n",
    "    rng = np.random.default_rng(seed=42)\n",
    "    samples, acceptance = lattice.sample(initial_field=initial_samples[idx],\n",
    "                                         num_samples=linear_size * 30_000,\n",
    "                                         method='uniform', rng=rng, half_width=half_width,\n",
    "                                         progress_bar=False)\n",
    "    observations = np.abs(np.sum(samples, axis=(1, 2))) / (linear_size ** 2)\n",
    "    mass2_observations.append(observations)\n",
    "    print(f\"Mass squared: {mass2}. Mean acceptance: {np.mean(acceptance):.2f}\")\n",
    "    half_width = 0.95 * half_width  # Reduce the half-width for the next iteration to fix acceptance."
   ],
   "id": "c82270aaf7f6ed66",
   "outputs": [],
   "execution_count": null
  },
  {
   "metadata": {},
   "cell_type": "code",
   "source": [
    "thermalization = 40_000\n",
    "x_values = list(range(linear_size * 30_000))\n",
    "\n",
    "for my_idx in range(len(mass2_values)):\n",
    "    fig, ax = plt.subplots()\n",
    "    y_values = mass2_observations[my_idx]\n",
    "\n",
    "    ax.plot(x_values, y_values, label=f'Mass squared: {mass2_values[my_idx]}')\n",
    "    ax.plot(x_values[thermalization:], y_values[thermalization:])\n",
    "    plt.legend()\n",
    "    plt.show()"
   ],
   "id": "18fe12dacbb4098f",
   "outputs": [],
   "execution_count": null
  },
  {
   "metadata": {
    "ExecuteTime": {
     "end_time": "2025-05-19T16:30:43.855237Z",
     "start_time": "2025-05-19T16:30:43.786368Z"
    }
   },
   "cell_type": "code",
   "source": [
    "\n",
    "fig, ax = plt.subplots()\n",
    "ax.scatter(mass2_values, [np.mean(mass2_observations[idx][::(linear_size * 30_000) // 1_000])\n",
    "                       for idx in range(len(mass2_values))])\n",
    "plt.show()"
   ],
   "id": "88bb8c3ea5f0845f",
   "outputs": [
    {
     "data": {
      "text/plain": [
       "<Figure size 640x480 with 1 Axes>"
      ],
      "image/png": "[encoded data removed]"
     },
     "metadata": {},
     "output_type": "display_data"
    }
   ],
   "execution_count": 10
  },
  {
   "metadata": {
    "ExecuteTime": {
     "end_time": "2025-05-19T16:35:01.362261Z",
     "start_time": "2025-05-19T16:35:01.255878Z"
    }
   },
   "cell_type": "code",
   "source": [
    "fig, ax = plt.subplots()\n",
    "ax.scatter(mass2_values, [np.var(mass2_observations[idx][::(linear_size * 30_000) // 1_000])\n",
    "                       for idx in range(len(mass2_values))])\n",
    "plt.show()"
   ],
   "id": "d7fbbf7f2db7d92b",
   "outputs": [
    {
     "data": {
      "text/plain": [
       "<Figure size 640x480 with 1 Axes>"
      ],
      "image/png": "[encoded data removed]"
     },
     "metadata": {},
     "output_type": "display_data"
    }
   ],
   "execution_count": 11
  }
 ],
 "metadata": {
  "kernelspec": {
   "display_name": "Python 3 (ipykernel)",
   "language": "python",
   "name": "python3"
  },
  "language_info": {
   "codemirror_mode": {
    "name": "ipython",
    "version": 3
   },
   "file_extension": ".py",
   "mimetype": "text/x-python",
   "name": "python",
   "nbconvert_exporter": "python",
   "pygments_lexer": "ipython3",
   "version": "3.13.3"
  }
 },
 "nbformat": 4,
 "nbformat_minor": 5
}
